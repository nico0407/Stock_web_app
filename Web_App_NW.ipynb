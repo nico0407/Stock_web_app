{
 "cells": [
  {
   "cell_type": "code",
   "execution_count": 1,
   "id": "9a13a118",
   "metadata": {},
   "outputs": [],
   "source": [
    "import dash\n",
    "import dash_bootstrap_components as dbc\n",
    "from dash import html, dcc, Input, Output\n",
    "import yfinance as yf\n",
    "import pandas as pd\n",
    "import plotly.graph_objs as go\n",
    "from datetime import datetime, timedelta"
   ]
  },
  {
   "cell_type": "code",
   "execution_count": 2,
   "id": "4d16b971",
   "metadata": {},
   "outputs": [],
   "source": [
    "sector_symbols = { \"IT\": [\"AAPL\", \"GOOGL\", \"NVDA\"], \"Finance\": [\"JPM\", \"C\", \"BLK\"] }"
   ]
  },
  {
   "cell_type": "code",
   "execution_count": 3,
   "id": "c2601e90",
   "metadata": {},
   "outputs": [],
   "source": [
    "#end_date = datetime.today()\n",
    "end_date = datetime(2025, 6, 26)\n",
    "start_date = end_date - timedelta(days=30)\n",
    "\n",
    "# Dash app initialization\n",
    "app = dash.Dash(__name__, external_stylesheets=[dbc.themes.BOOTSTRAP])"
   ]
  },
  {
   "cell_type": "code",
   "execution_count": null,
   "id": "a7c1bdaf",
   "metadata": {},
   "outputs": [],
   "source": [
    "# Layout\n",
    "app.layout = dbc.Container([\n",
    "    html.H1(\"Stock Transaction Volume Dashboard\", className=\"text-center my-4\"),\n",
    "\n",
    "    dbc.Row([\n",
    "        dbc.Col([\n",
    "            html.Label(\"Select Sector:\"),\n",
    "            dcc.Dropdown(\n",
    "                id=\"sector-dropdown\",\n",
    "                options=[{\"label\": k, \"value\": k} for k in sector_symbols],\n",
    "                value=\"IT\",\n",
    "                clearable=False\n",
    "            )\n",
    "        ], width=4),\n",
    "\n",
    "        dbc.Col([\n",
    "            html.Label(\"Select End Date:\"),\n",
    "            dcc.DatePickerSingle(\n",
    "                id=\"date-picker\",\n",
    "                min_date_allowed=datetime(2020, 1, 1),\n",
    "                max_date_allowed=end_date,\n",
    "                date=end_date.date()\n",
    "            )\n",
    "        ], width=4)\n",
    "    ], className=\"mb-4\"),\n",
    "\n",
    "    dbc.Row([\n",
    "        dbc.Col([\n",
    "            dcc.Loading(\n",
    "                id=\"loading-graph\",\n",
    "                children=[dcc.Graph(id=\"volume-chart\")],\n",
    "                type=\"default\"\n",
    "            )\n",
    "        ])\n",
    "    ])\n",
    "])\n",
    "\n",
    "\n",
    "# dbc.Container: Bootstrap container\n",
    "# html.H1: App title\n",
    "# dcc.Dropdown: For selecting sector (id=\"sector-dropdown\")\n",
    "# dcc.DatePickerSingle: For selecting end date (id=\"date-picker\")\n",
    "# dcc.Graph: Area where the Plotly chart is rendered\n",
    "# dcc.Loading: Shows a spinner while the graph is loading"
   ]
  },
  {
   "cell_type": "code",
   "execution_count": null,
   "id": "55b94cae",
   "metadata": {},
   "outputs": [],
   "source": [
    "# Callback for updating graph\n",
    "@app.callback(\n",
    "    Output(\"volume-chart\", \"figure\"),\n",
    "    Input(\"sector-dropdown\", \"value\"),\n",
    "    Input(\"date-picker\", \"date\")\n",
    ")\n",
    "\n",
    "def update_graph(selected_sector, selected_date):\n",
    "    tickers = sector_symbols[selected_sector]\n",
    "    end = pd.to_datetime(selected_date)\n",
    "    start = end - pd.Timedelta(days=30)\n",
    "\n",
    "    df_dict = yf.download(tickers, start=start, end=end)[\"Volume\"]\n",
    "\n",
    "    if isinstance(df_dict, pd.Series):  # Only one ticker case\n",
    "        df_dict = df_dict.to_frame()\n",
    "\n",
    "    fig = go.Figure()\n",
    "    for ticker in tickers:\n",
    "        fig.add_trace(go.Scatter(\n",
    "            x=df_dict.index,\n",
    "            y=df_dict[ticker],\n",
    "            mode=\"lines\",\n",
    "            name=ticker\n",
    "        ))\n",
    "\n",
    "    fig.update_layout(\n",
    "        title=f\"30-Day Daily Transaction Volume ({selected_sector} Sector)\",\n",
    "        xaxis_title=\"Date\",\n",
    "        yaxis_title=\"Volume\",\n",
    "        template=\"plotly_white\"\n",
    "    )\n",
    "\n",
    "    return fig"
   ]
  },
  {
   "cell_type": "code",
   "execution_count": null,
   "id": "014eea9b",
   "metadata": {},
   "outputs": [
    {
     "data": {
      "text/html": [
       "\n",
       "        <iframe\n",
       "            width=\"100%\"\n",
       "            height=\"650\"\n",
       "            src=\"http://127.0.0.1:8050/\"\n",
       "            frameborder=\"0\"\n",
       "            allowfullscreen\n",
       "            \n",
       "        ></iframe>\n",
       "        "
      ],
      "text/plain": [
       "<IPython.lib.display.IFrame at 0x150841dc0>"
      ]
     },
     "metadata": {},
     "output_type": "display_data"
    },
    {
     "name": "stdout",
     "output_type": "stream",
     "text": [
      "YF.download() has changed argument auto_adjust default to True\n"
     ]
    },
    {
     "name": "stderr",
     "output_type": "stream",
     "text": [
      "[*********************100%***********************]  3 of 3 completed\n",
      "[*********************100%***********************]  3 of 3 completed\n",
      "[*********************100%***********************]  3 of 3 completed\n",
      "[*********************100%***********************]  3 of 3 completed\n",
      "[*********************100%***********************]  3 of 3 completed\n",
      "[*********************100%***********************]  3 of 3 completed\n",
      "[*********************100%***********************]  3 of 3 completed\n",
      "[*********************100%***********************]  3 of 3 completed\n"
     ]
    }
   ],
   "source": [
    "app.run(debug=True)"
   ]
  },
  {
   "cell_type": "code",
   "execution_count": null,
   "id": "5c4b2163",
   "metadata": {},
   "outputs": [],
   "source": []
  },
  {
   "cell_type": "code",
   "execution_count": null,
   "id": "e4ab4c3a",
   "metadata": {},
   "outputs": [],
   "source": []
  },
  {
   "cell_type": "markdown",
   "id": "be2c5ef9",
   "metadata": {},
   "source": [
    "## To allow the duration (currently hardcoded as 30 days) to be dynamically adjustable by the user, you can add a slider or number input to your Dash layout. Here's how to implement that:\n",
    "\n",
    "## Steps to Add a Duration Selector:\n",
    "### 1 Add a dcc.Input or dcc.Slider component to the layout to let the user choose the number of days.\n",
    "### 2 Include it as an Input in your callback.\n",
    "### 3 Use the selected value to compute the start_date."
   ]
  },
  {
   "cell_type": "code",
   "execution_count": 10,
   "id": "9e53268c",
   "metadata": {},
   "outputs": [],
   "source": [
    "sector_symbols = { \"IT\": [\"AAPL\", \"GOOGL\", \"NVDA\"], \"Finance\": [\"JPM\", \"C\", \"BLK\"] }\n",
    "#end_date = datetime.today()\n",
    "end_date = datetime(2025, 6, 26)\n",
    "start_date = end_date - timedelta(days=30)\n",
    "\n",
    "# Dash app initialization\n",
    "app = dash.Dash(__name__, external_stylesheets=[dbc.themes.BOOTSTRAP])\n"
   ]
  },
  {
   "cell_type": "code",
   "execution_count": 11,
   "id": "f7e681d9",
   "metadata": {},
   "outputs": [],
   "source": [
    "\n",
    "# Layout\n",
    "app.layout = dbc.Container([\n",
    "    html.H1(\"Stock Transaction Volume Dashboard\", className=\"text-center my-4\"),\n",
    "\n",
    "    dbc.Row([\n",
    "        dbc.Col([\n",
    "            html.Label(\"Select Sector:\"),\n",
    "            dcc.Dropdown(\n",
    "                id=\"sector-dropdown\",\n",
    "                options=[{\"label\": k, \"value\": k} for k in sector_symbols],\n",
    "                value=\"IT\",\n",
    "                clearable=False\n",
    "            )\n",
    "        ], width=4),\n",
    "\n",
    "        dbc.Col([\n",
    "            html.Label(\"Select End Date:\"),\n",
    "            dcc.DatePickerSingle(\n",
    "                id=\"date-picker\",\n",
    "                min_date_allowed=datetime(2020, 1, 1),\n",
    "                max_date_allowed=end_date,\n",
    "                date=end_date.date()\n",
    "            )\n",
    "        ], width=4),\n",
    "\n",
    "        dbc.Col([\n",
    "            html.Label(\"Select Duration (days):\"),\n",
    "            dcc.Input(\n",
    "                id=\"duration-input\",\n",
    "                type=\"number\",\n",
    "                min=1,\n",
    "                max=365,\n",
    "                step=1,\n",
    "                value=30\n",
    "            )\n",
    "        ], width=4)\n",
    "    ], className=\"mb-4\"),\n",
    "\n",
    "\n",
    "    dbc.Row([\n",
    "        dbc.Col([\n",
    "            dcc.Loading(\n",
    "                id=\"loading-graph\",\n",
    "                children=[dcc.Graph(id=\"volume-chart\")],\n",
    "                type=\"default\"\n",
    "            )\n",
    "        ])\n",
    "    ])\n",
    "])\n",
    "\n",
    "\n",
    "# dbc.Container: Bootstrap container\n",
    "# html.H1: App title\n",
    "# dcc.Dropdown: For selecting sector (id=\"sector-dropdown\")\n",
    "# dcc.DatePickerSingle: For selecting end date (id=\"date-picker\")\n",
    "# dcc.Graph: Area where the Plotly chart is rendered\n",
    "# dcc.Loading: Shows a spinner while the graph is loading\n",
    "# Callback for updating graph"
   ]
  },
  {
   "cell_type": "code",
   "execution_count": 12,
   "id": "455e4387",
   "metadata": {},
   "outputs": [],
   "source": [
    "\n",
    "@app.callback(\n",
    "    Output(\"volume-chart\", \"figure\"),\n",
    "    Input(\"sector-dropdown\", \"value\"),\n",
    "    Input(\"date-picker\", \"date\"),\n",
    "    Input(\"duration-input\", \"value\")\n",
    ")\n",
    "\n",
    "def update_graph(selected_sector, selected_date, duration_days):\n",
    "    tickers = sector_symbols[selected_sector]\n",
    "    end = pd.to_datetime(selected_date)\n",
    "    start = end - pd.Timedelta(days=duration_days)\n",
    "\n",
    "    df_dict = yf.download(tickers, start=start, end=end)[\"Volume\"]\n",
    "\n",
    "    if isinstance(df_dict, pd.Series):  # Only one ticker case\n",
    "        df_dict = df_dict.to_frame()\n",
    "\n",
    "    fig = go.Figure()\n",
    "    for ticker in tickers:\n",
    "        fig.add_trace(go.Scatter(\n",
    "            x=df_dict.index,\n",
    "            y=df_dict[ticker],\n",
    "            mode=\"lines\",\n",
    "            name=ticker\n",
    "        ))\n",
    "\n",
    "    fig.update_layout(\n",
    "        title=f\"30-Day Daily Transaction Volume ({selected_sector} Sector)\",\n",
    "        xaxis_title=\"Date\",\n",
    "        yaxis_title=\"Volume\",\n",
    "        template=\"plotly_white\"\n",
    "    )\n",
    "\n",
    "    return fig\n"
   ]
  },
  {
   "cell_type": "code",
   "execution_count": null,
   "id": "9b8eaf67",
   "metadata": {},
   "outputs": [
    {
     "data": {
      "text/html": [
       "\n",
       "        <iframe\n",
       "            width=\"100%\"\n",
       "            height=\"650\"\n",
       "            src=\"http://127.0.0.1:8050/\"\n",
       "            frameborder=\"0\"\n",
       "            allowfullscreen\n",
       "            \n",
       "        ></iframe>\n",
       "        "
      ],
      "text/plain": [
       "<IPython.lib.display.IFrame at 0x11cf1e6f0>"
      ]
     },
     "metadata": {},
     "output_type": "display_data"
    },
    {
     "name": "stderr",
     "output_type": "stream",
     "text": [
      "[*********************100%***********************]  3 of 3 completed\n",
      "[*********************100%***********************]  3 of 3 completed\n",
      "[*********************100%***********************]  3 of 3 completed\n"
     ]
    },
    {
     "name": "stdout",
     "output_type": "stream",
     "text": [
      "---------------------------------------------------------------------------\n",
      "TypeError                                 Traceback (most recent call last)\n",
      "Cell In[12], line 11, in update_graph(\n",
      "    selected_sector='IT',\n",
      "    selected_date='2025-06-26',\n",
      "    duration_days=None\n",
      ")\n",
      "      9 tickers = sector_symbols[selected_sector]\n",
      "     10 end = pd.to_datetime(selected_date)\n",
      "---> 11 start = end - pd.Timedelta(days=duration_days)\n",
      "        end = Timestamp('2025-06-26 00:00:00')\n",
      "        pd = <module 'pandas' from '/opt/anaconda3/lib/python3.12/site-packages/pandas/__init__.py'>\n",
      "        duration_days = None\n",
      "     13 df_dict = yf.download(tickers, start=start, end=end)[\"Volume\"]\n",
      "     15 if isinstance(df_dict, pd.Series):  # Only one ticker case\n",
      "\n",
      "File timedeltas.pyx:1777, in pandas._libs.tslibs.timedeltas.Timedelta.__new__()\n",
      "\n",
      "File timedeltas.pyx:951, in pandas._libs.tslibs.timedeltas._to_py_int_float()\n",
      "\n",
      "TypeError: Invalid type <class 'NoneType'>. Must be int or float.\n",
      "\n"
     ]
    },
    {
     "name": "stderr",
     "output_type": "stream",
     "text": [
      "[*********************100%***********************]  3 of 3 completed\n",
      "\n",
      "[*********************100%***********************]  3 of 3 completed\n",
      "[*********************100%***********************]  3 of 3 completed4 of 3 completed\n",
      "[*********************100%***********************]  3 of 3 completed\n"
     ]
    },
    {
     "name": "stdout",
     "output_type": "stream",
     "text": [
      "---------------------------------------------------------------------------\n",
      "TypeError                                 Traceback (most recent call last)\n",
      "Cell In[12], line 11, in update_graph(\n",
      "    selected_sector='IT',\n",
      "    selected_date='2025-06-26',\n",
      "    duration_days=None\n",
      ")\n",
      "      9 tickers = sector_symbols[selected_sector]\n",
      "     10 end = pd.to_datetime(selected_date)\n",
      "---> 11 start = end - pd.Timedelta(days=duration_days)\n",
      "        end = Timestamp('2025-06-26 00:00:00')\n",
      "        pd = <module 'pandas' from '/opt/anaconda3/lib/python3.12/site-packages/pandas/__init__.py'>\n",
      "        duration_days = None\n",
      "     13 df_dict = yf.download(tickers, start=start, end=end)[\"Volume\"]\n",
      "     15 if isinstance(df_dict, pd.Series):  # Only one ticker case\n",
      "\n",
      "File timedeltas.pyx:1777, in pandas._libs.tslibs.timedeltas.Timedelta.__new__()\n",
      "\n",
      "File timedeltas.pyx:951, in pandas._libs.tslibs.timedeltas._to_py_int_float()\n",
      "\n",
      "TypeError: Invalid type <class 'NoneType'>. Must be int or float.\n",
      "\n"
     ]
    },
    {
     "name": "stderr",
     "output_type": "stream",
     "text": [
      "[*********************100%***********************]  3 of 3 completed\n"
     ]
    }
   ],
   "source": [
    "app.run(debug=True)"
   ]
  },
  {
   "cell_type": "code",
   "execution_count": null,
   "id": "dcba2b72",
   "metadata": {},
   "outputs": [],
   "source": []
  },
  {
   "cell_type": "code",
   "execution_count": null,
   "id": "46bae688",
   "metadata": {},
   "outputs": [],
   "source": []
  }
 ],
 "metadata": {
  "kernelspec": {
   "display_name": "base",
   "language": "python",
   "name": "python3"
  },
  "language_info": {
   "codemirror_mode": {
    "name": "ipython",
    "version": 3
   },
   "file_extension": ".py",
   "mimetype": "text/x-python",
   "name": "python",
   "nbconvert_exporter": "python",
   "pygments_lexer": "ipython3",
   "version": "3.12.7"
  }
 },
 "nbformat": 4,
 "nbformat_minor": 5
}
